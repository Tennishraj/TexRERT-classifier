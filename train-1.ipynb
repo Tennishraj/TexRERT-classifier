{
 "cells": [
  {
   "cell_type": "code",
   "execution_count": 1,
   "metadata": {},
   "outputs": [
    {
     "name": "stdout",
     "output_type": "stream",
     "text": [
      "WARNING:tensorflow:From c:\\Users\\iStudio\\.conda\\envs\\bud\\lib\\site-packages\\tf_keras\\src\\losses.py:2976: The name tf.losses.sparse_softmax_cross_entropy is deprecated. Please use tf.compat.v1.losses.sparse_softmax_cross_entropy instead.\n",
      "\n"
     ]
    },
    {
     "name": "stderr",
     "output_type": "stream",
     "text": [
      "c:\\Users\\iStudio\\.conda\\envs\\bud\\lib\\site-packages\\transformers\\tokenization_utils_base.py:1601: FutureWarning: `clean_up_tokenization_spaces` was not set. It will be set to `True` by default. This behavior will be depracted in transformers v4.45, and will be then set to `False` by default. For more details check this issue: https://github.com/huggingface/transformers/issues/31884\n",
      "  warnings.warn(\n"
     ]
    },
    {
     "data": {
      "application/vnd.jupyter.widget-view+json": {
       "model_id": "a2c8c121c1f34fdda36ce8f476851809",
       "version_major": 2,
       "version_minor": 0
      },
      "text/plain": [
       "Map:   0%|          | 0/16 [00:00<?, ? examples/s]"
      ]
     },
     "metadata": {},
     "output_type": "display_data"
    },
    {
     "data": {
      "application/vnd.jupyter.widget-view+json": {
       "model_id": "0eca97bf1fcf4850a30b0245b43c3671",
       "version_major": 2,
       "version_minor": 0
      },
      "text/plain": [
       "Map:   0%|          | 0/4 [00:00<?, ? examples/s]"
      ]
     },
     "metadata": {},
     "output_type": "display_data"
    },
    {
     "name": "stdout",
     "output_type": "stream",
     "text": [
      "Training dataset features: {'text': Value(dtype='string', id=None), 'label': Value(dtype='int8', id=None), 'input_ids': Sequence(feature=Value(dtype='int32', id=None), length=-1, id=None), 'token_type_ids': Sequence(feature=Value(dtype='int8', id=None), length=-1, id=None), 'attention_mask': Sequence(feature=Value(dtype='int8', id=None), length=-1, id=None)}\n",
      "Evaluation dataset features: {'text': Value(dtype='string', id=None), 'label': Value(dtype='int8', id=None), 'input_ids': Sequence(feature=Value(dtype='int32', id=None), length=-1, id=None), 'token_type_ids': Sequence(feature=Value(dtype='int8', id=None), length=-1, id=None), 'attention_mask': Sequence(feature=Value(dtype='int8', id=None), length=-1, id=None)}\n"
     ]
    },
    {
     "name": "stderr",
     "output_type": "stream",
     "text": [
      "Some weights of BertForSequenceClassification were not initialized from the model checkpoint at bert-base-uncased and are newly initialized: ['classifier.bias', 'classifier.weight']\n",
      "You should probably TRAIN this model on a down-stream task to be able to use it for predictions and inference.\n",
      "c:\\Users\\iStudio\\.conda\\envs\\bud\\lib\\site-packages\\transformers\\training_args.py:1525: FutureWarning: `evaluation_strategy` is deprecated and will be removed in version 4.46 of 🤗 Transformers. Use `eval_strategy` instead\n",
      "  warnings.warn(\n"
     ]
    },
    {
     "data": {
      "application/vnd.jupyter.widget-view+json": {
       "model_id": "7a32fdf5e610473981496ed9521ef1ce",
       "version_major": 2,
       "version_minor": 0
      },
      "text/plain": [
       "  0%|          | 0/12 [00:00<?, ?it/s]"
      ]
     },
     "metadata": {},
     "output_type": "display_data"
    },
    {
     "data": {
      "application/vnd.jupyter.widget-view+json": {
       "model_id": "76bcecfe52c844f68a0d53aa07d7fd6c",
       "version_major": 2,
       "version_minor": 0
      },
      "text/plain": [
       "  0%|          | 0/1 [00:00<?, ?it/s]"
      ]
     },
     "metadata": {},
     "output_type": "display_data"
    },
    {
     "name": "stdout",
     "output_type": "stream",
     "text": [
      "{'eval_loss': 3.1987485885620117, 'eval_runtime': 13.0718, 'eval_samples_per_second': 0.306, 'eval_steps_per_second': 0.077, 'epoch': 1.0}\n"
     ]
    },
    {
     "data": {
      "application/vnd.jupyter.widget-view+json": {
       "model_id": "02be647726b2463db439b616a5690a88",
       "version_major": 2,
       "version_minor": 0
      },
      "text/plain": [
       "  0%|          | 0/1 [00:00<?, ?it/s]"
      ]
     },
     "metadata": {},
     "output_type": "display_data"
    },
    {
     "name": "stdout",
     "output_type": "stream",
     "text": [
      "{'eval_loss': 3.296785593032837, 'eval_runtime': 12.8609, 'eval_samples_per_second': 0.311, 'eval_steps_per_second': 0.078, 'epoch': 2.0}\n",
      "{'loss': 2.8628, 'grad_norm': 10.108929634094238, 'learning_rate': 3.3333333333333333e-06, 'epoch': 2.5}\n"
     ]
    },
    {
     "data": {
      "application/vnd.jupyter.widget-view+json": {
       "model_id": "374146fd736f4d52bddc7fc07766e5d6",
       "version_major": 2,
       "version_minor": 0
      },
      "text/plain": [
       "  0%|          | 0/1 [00:00<?, ?it/s]"
      ]
     },
     "metadata": {},
     "output_type": "display_data"
    },
    {
     "name": "stdout",
     "output_type": "stream",
     "text": [
      "{'eval_loss': 3.3200063705444336, 'eval_runtime': 13.1256, 'eval_samples_per_second': 0.305, 'eval_steps_per_second': 0.076, 'epoch': 3.0}\n",
      "{'train_runtime': 384.5533, 'train_samples_per_second': 0.125, 'train_steps_per_second': 0.031, 'train_loss': 2.866519053777059, 'epoch': 3.0}\n",
      "Model training complete and saved successfully.\n"
     ]
    }
   ],
   "source": [
    "import json\n",
    "import pandas as pd\n",
    "from transformers import AutoTokenizer, AutoModelForSequenceClassification, Trainer, TrainingArguments\n",
    "from datasets import Dataset, DatasetDict\n",
    "\n",
    "# Load the JSON data\n",
    "def load_json_data(json_path):\n",
    "    with open(json_path, 'r') as file:\n",
    "        data = json.load(file)\n",
    "    return data\n",
    "\n",
    "\n",
    "# Convert JSON data to pandas DataFrame\n",
    "def json_to_dataframe(data):\n",
    "    df = pd.DataFrame(data)\n",
    "    \n",
    "    # Ensure 'text' column is string and 'label' is converted to categorical codes\n",
    "    df['text'] = df['text'].astype(str)\n",
    "    if df['label'].dtype == 'object':\n",
    "        df['label'] = df['label'].astype('category').cat.codes  # Converts labels to numerical values\n",
    "    return df\n",
    "\n",
    "\n",
    "# Save the DataFrame to Excel (optional)\n",
    "def save_to_excel(df, excel_path):\n",
    "    df.to_excel(excel_path, index=False)\n",
    "\n",
    "\n",
    "# Load and preprocess the dataset\n",
    "json_path = 'dataset_1.json'  # Path to your JSON dataset\n",
    "data = load_json_data(json_path)\n",
    "df = json_to_dataframe(data)\n",
    "\n",
    "# Convert the DataFrame to Hugging Face Dataset\n",
    "dataset = Dataset.from_pandas(df)\n",
    "\n",
    "# Load the tokenizer\n",
    "tokenizer = AutoTokenizer.from_pretrained(\"bert-base-uncased\")\n",
    "\n",
    "# Tokenization function for the dataset\n",
    "def tokenize_function(examples):\n",
    "    return tokenizer(examples[\"text\"], padding=\"max_length\", truncation=True)\n",
    "\n",
    "# Split dataset into training and evaluation sets (80% train, 20% test)\n",
    "split_datasets = dataset.train_test_split(test_size=0.2) \n",
    "train_dataset = split_datasets[\"train\"]\n",
    "eval_dataset = split_datasets[\"test\"]\n",
    "\n",
    "# Tokenize both train and eval datasets\n",
    "tokenized_train_dataset = train_dataset.map(tokenize_function, batched=True)\n",
    "tokenized_eval_dataset = eval_dataset.map(tokenize_function, batched=True)\n",
    "\n",
    "print(\"Training dataset features:\", tokenized_train_dataset.features)\n",
    "print(\"Evaluation dataset features:\", tokenized_eval_dataset.features)\n",
    "\n",
    "# Load the pre-trained BERT model for sequence classification\n",
    "model = AutoModelForSequenceClassification.from_pretrained(\n",
    "    \"bert-base-uncased\", \n",
    "    num_labels=len(df['label'].unique())  # Set the number of unique labels in your dataset\n",
    ")\n",
    "\n",
    "# Define training arguments\n",
    "training_args = TrainingArguments(\n",
    "    output_dir=\"./results\",            # Directory to save model checkpoints\n",
    "    evaluation_strategy=\"epoch\",       # Evaluate every epoch\n",
    "    learning_rate=2e-5,                # Learning rate\n",
    "    per_device_train_batch_size=4,     # Batch size per device during training\n",
    "    per_device_eval_batch_size=4,      # Batch size per device during evaluation\n",
    "    num_train_epochs=3,                # Number of training epochs\n",
    "    weight_decay=0.01,                 # Weight decay for regularization\n",
    "    logging_dir='./logs',              # Directory to save logs\n",
    "    logging_steps=10,                  # Log every 10 steps\n",
    ")\n",
    "\n",
    "# Initialize the Trainer\n",
    "trainer = Trainer(\n",
    "    model=model,\n",
    "    args=training_args,\n",
    "    train_dataset=tokenized_train_dataset,\n",
    "    eval_dataset=tokenized_eval_dataset\n",
    ")\n",
    "\n",
    "# Train the model\n",
    "trainer.train()\n",
    "\n",
    "# Save the trained model and tokenizer\n",
    "model.save_pretrained(\"./trained_1model\")\n",
    "tokenizer.save_pretrained(\"./trained_1model\")\n",
    "\n",
    "print(\"Model training complete and saved successfully.\")\n"
   ]
  },
  {
   "cell_type": "code",
   "execution_count": 2,
   "metadata": {},
   "outputs": [
    {
     "name": "stdout",
     "output_type": "stream",
     "text": [
      "Model training complete and saved successfully.\n"
     ]
    }
   ],
   "source": [
    "# Save the trained model and tokenizer\n",
    "model.save_pretrained(\"./trained_1model\")\n",
    "tokenizer.save_pretrained(\"./trained_1model\")\n",
    "\n",
    "print(\"Model training complete and saved successfully.\")\n"
   ]
  },
  {
   "cell_type": "code",
   "execution_count": 3,
   "metadata": {},
   "outputs": [],
   "source": [
    "from transformers import AutoTokenizer, AutoModelForSequenceClassification\n",
    "import torch\n",
    "\n",
    "# Load the trained model and tokenizer\n",
    "model_path = \"./trained_1model\"\n",
    "tokenizer = AutoTokenizer.from_pretrained(model_path)\n",
    "model = AutoModelForSequenceClassification.from_pretrained(model_path)\n"
   ]
  },
  {
   "cell_type": "code",
   "execution_count": 4,
   "metadata": {},
   "outputs": [],
   "source": [
    "# Function to tokenize a single input sentence\n",
    "def tokenize_input(text):\n",
    "    return tokenizer(text, padding=\"max_length\", truncation=True, return_tensors=\"pt\")\n",
    "\n",
    "# Example text to test\n",
    "test_text = \"Hello! How are you?\"\n",
    "\n",
    "# Tokenize the test text\n",
    "inputs = tokenize_input(test_text)\n"
   ]
  },
  {
   "cell_type": "code",
   "execution_count": 5,
   "metadata": {},
   "outputs": [
    {
     "name": "stdout",
     "output_type": "stream",
     "text": [
      "Predicted label: 3\n"
     ]
    }
   ],
   "source": [
    "# Disable gradient calculation (no training, just inference)\n",
    "with torch.no_grad():\n",
    "    outputs = model(**inputs)\n",
    "\n",
    "# Get logits from the model output\n",
    "logits = outputs.logits\n",
    "\n",
    "# Convert logits to predicted label (with argmax for classification)\n",
    "predicted_label = torch.argmax(logits, dim=1).item()\n",
    "\n",
    "print(f\"Predicted label: {predicted_label}\")\n"
   ]
  },
  {
   "cell_type": "code",
   "execution_count": 9,
   "metadata": {},
   "outputs": [
    {
     "name": "stdout",
     "output_type": "stream",
     "text": [
      "Input text: Hello! How are you?\n",
      "Predicted label: request_joke\n",
      "Input text: Hello!\n",
      "Predicted label: request_joke\n",
      "Input text: What is your name?\n",
      "Predicted label: request_joke\n"
     ]
    }
   ],
   "source": [
    "import json\n",
    "import torch\n",
    "from transformers import AutoTokenizer, AutoModelForSequenceClassification\n",
    "\n",
    "# 1. Load the trained model and tokenizer\n",
    "model_path = \"./trained_model\"  # Path to the directory where the model is saved\n",
    "tokenizer = AutoTokenizer.from_pretrained(model_path)\n",
    "model = AutoModelForSequenceClassification.from_pretrained(model_path)\n",
    "\n",
    "# 2. Load the label mapping from the JSON file (you saved it during training)\n",
    "label_mapping_path = './label_mapping.json'  # Path to the label mapping file\n",
    "with open(label_mapping_path, 'r') as f:\n",
    "    label_mapping = json.load(f)\n",
    "\n",
    "# 3. Define a function to tokenize the input text\n",
    "def tokenize_input(text):\n",
    "    return tokenizer(text, padding=\"max_length\", truncation=True, return_tensors=\"pt\")\n",
    "\n",
    "# 4. Function to get the predicted label for a single input text\n",
    "def get_prediction(text):\n",
    "    # Tokenize the input text\n",
    "    inputs = tokenize_input(text)\n",
    "\n",
    "    # Disable gradient calculation for inference\n",
    "    with torch.no_grad():\n",
    "        outputs = model(**inputs)  # Run the model\n",
    "        logits = outputs.logits  # Get the logits (raw scores)\n",
    "\n",
    "    # Convert logits to predicted label\n",
    "    predicted_label_index = torch.argmax(logits, dim=1).item()\n",
    "\n",
    "    # Convert the predicted label index to the original category using the label mapping\n",
    "    predicted_label_str = label_mapping[str(predicted_label_index)]  # JSON keys are strings\n",
    "\n",
    "    return predicted_label_str\n",
    "\n",
    "# 5. Test the model with a single input text\n",
    "test_text = \"Hello! How are you?\"\n",
    "predicted_label = get_prediction(test_text)\n",
    "\n",
    "# Print the result\n",
    "print(f\"Input text: {test_text}\")\n",
    "print(f\"Predicted label: {predicted_label}\")\n",
    "\n",
    "# 6. Optional: Test the model with multiple inputs\n",
    "test_texts = [\"Hello!\", \"What is your name?\"]\n",
    "for text in test_texts:\n",
    "    predicted_label = get_prediction(text)\n",
    "    print(f\"Input text: {text}\")\n",
    "    print(f\"Predicted label: {predicted_label}\")"
   ]
  },
  {
   "cell_type": "code",
   "execution_count": 12,
   "metadata": {},
   "outputs": [
    {
     "name": "stdout",
     "output_type": "stream",
     "text": [
      "Predictions saved to ./predictions.xlsx\n"
     ]
    }
   ],
   "source": [
    "import json\n",
    "import torch\n",
    "from transformers import AutoTokenizer, AutoModelForSequenceClassification\n",
    "import pandas as pd  # To handle Excel format\n",
    "\n",
    "# 1. Load the trained model and tokenizer\n",
    "model_path = \"./trained_model\"  # Path to the directory where the model is saved\n",
    "tokenizer = AutoTokenizer.from_pretrained(model_path)\n",
    "model = AutoModelForSequenceClassification.from_pretrained(model_path)\n",
    "\n",
    "# 2. Load the label mapping from the JSON file (you saved it during training)\n",
    "label_mapping_path = './label_mapping.json'  # Path to the label mapping file\n",
    "with open(label_mapping_path, 'r') as f:\n",
    "    label_mapping = json.load(f)\n",
    "\n",
    "# 3. Define a function to tokenize the input text\n",
    "def tokenize_input(text):\n",
    "    return tokenizer(text, padding=\"max_length\", truncation=True, return_tensors=\"pt\")\n",
    "\n",
    "# 4. Function to get the predicted label for a single input text\n",
    "def get_prediction(text):\n",
    "    # Tokenize the input text\n",
    "    inputs = tokenize_input(text)\n",
    "\n",
    "    # Disable gradient calculation for inference\n",
    "    with torch.no_grad():\n",
    "        outputs = model(**inputs)  # Run the model\n",
    "        logits = outputs.logits  # Get the logits (raw scores)\n",
    "\n",
    "    # Convert logits to predicted label\n",
    "    predicted_label_index = torch.argmax(logits, dim=1).item()\n",
    "\n",
    "    # Convert the predicted label index to the original category using the label mapping\n",
    "    predicted_label_str = label_mapping[str(predicted_label_index)]  # JSON keys are strings\n",
    "\n",
    "    return predicted_label_str\n",
    "\n",
    "# 5. Test the model with multiple inputs\n",
    "test_texts = [\"Hello!\", \"What is your name?\", \"Tell me a joke.\", \"What's the weather like?\"]\n",
    "\n",
    "# Collect results in a list of dictionaries for Excel\n",
    "results = []\n",
    "\n",
    "for text in test_texts:\n",
    "    predicted_label = get_prediction(text)\n",
    "    results.append({\"Input text\": text, \"Predicted label\": predicted_label})\n",
    "\n",
    "# 6. Convert the results to a pandas DataFrame\n",
    "df = pd.DataFrame(results)\n",
    "\n",
    "# 7. Save the DataFrame to an Excel file\n",
    "output_path = \"./predictions.xlsx\"\n",
    "df.to_excel(output_path, index=False)\n",
    "\n",
    "print(f\"Predictions saved to {output_path}\")\n"
   ]
  },
  {
   "cell_type": "code",
   "execution_count": 11,
   "metadata": {},
   "outputs": [
    {
     "name": "stdout",
     "output_type": "stream",
     "text": [
      "Collecting openpyxl\n",
      "  Downloading openpyxl-3.1.5-py2.py3-none-any.whl.metadata (2.5 kB)\n",
      "Collecting et-xmlfile (from openpyxl)\n",
      "  Downloading et_xmlfile-1.1.0-py3-none-any.whl.metadata (1.8 kB)\n",
      "Downloading openpyxl-3.1.5-py2.py3-none-any.whl (250 kB)\n",
      "   ---------------------------------------- 0.0/250.9 kB ? eta -:--:--\n",
      "   ---------------------------------------- 0.0/250.9 kB ? eta -:--:--\n",
      "   - -------------------------------------- 10.2/250.9 kB ? eta -:--:--\n",
      "   ---- ---------------------------------- 30.7/250.9 kB 262.6 kB/s eta 0:00:01\n",
      "   --------- ----------------------------- 61.4/250.9 kB 365.7 kB/s eta 0:00:01\n",
      "   ---------------------------------------  245.8/250.9 kB 1.3 MB/s eta 0:00:01\n",
      "   ---------------------------------------  245.8/250.9 kB 1.3 MB/s eta 0:00:01\n",
      "   ---------------------------------------  245.8/250.9 kB 1.3 MB/s eta 0:00:01\n",
      "   -------------------------------------- 250.9/250.9 kB 810.3 kB/s eta 0:00:00\n",
      "Downloading et_xmlfile-1.1.0-py3-none-any.whl (4.7 kB)\n",
      "Installing collected packages: et-xmlfile, openpyxl\n",
      "Successfully installed et-xmlfile-1.1.0 openpyxl-3.1.5\n",
      "Note: you may need to restart the kernel to use updated packages.\n"
     ]
    },
    {
     "name": "stderr",
     "output_type": "stream",
     "text": [
      "WARNING: Ignoring invalid distribution -eras (c:\\users\\istudio\\.conda\\envs\\bud\\lib\\site-packages)\n",
      "WARNING: Ignoring invalid distribution -eras (c:\\users\\istudio\\.conda\\envs\\bud\\lib\\site-packages)\n"
     ]
    }
   ],
   "source": [
    "pip install openpyxl"
   ]
  },
  {
   "cell_type": "code",
   "execution_count": null,
   "metadata": {},
   "outputs": [],
   "source": [
    "import pdfplumber\n",
    "import json\n",
    "\n",
    "def extract_annotations_from_pdf(pdf_path):\n",
    "    annotations = []\n",
    "\n",
    "    with pdfplumber.open(pdf_path) as pdf:\n",
    "        for page in pdf.pages:\n",
    "            text = page.extract_text()\n",
    "            if text:\n",
    "                lines = text.split('\\n')\n",
    "                for line in lines:\n",
    "                    # Assuming each line is formatted as: \"text,label\"\n",
    "                    parts = line.split(',')\n",
    "                    if len(parts) == 2:\n",
    "                        text = parts[0].strip().strip('\"')\n",
    "                        label = parts[1].strip().strip('\"')\n",
    "                        annotations.append({\"text\": text, \"label\": label})\n",
    "\n",
    "    return annotations\n",
    "\n",
    "# Path to your PDF file\n",
    "pdf_path = 'dataset_annotations.pdf'\n",
    "annotations = extract_annotations_from_pdf(pdf_path)\n",
    "\n",
    "# Save to JSON format\n",
    "with open('annotations.json', 'w') as json_file:\n",
    "    json.dump(annotations, json_file, indent=4)\n",
    "\n",
    "print(\"Annotations extracted and saved to annotations.json\")\n"
   ]
  },
  {
   "cell_type": "code",
   "execution_count": null,
   "metadata": {},
   "outputs": [],
   "source": []
  }
 ],
 "metadata": {
  "kernelspec": {
   "display_name": "bud",
   "language": "python",
   "name": "python3"
  },
  "language_info": {
   "codemirror_mode": {
    "name": "ipython",
    "version": 3
   },
   "file_extension": ".py",
   "mimetype": "text/x-python",
   "name": "python",
   "nbconvert_exporter": "python",
   "pygments_lexer": "ipython3",
   "version": "3.10.13"
  }
 },
 "nbformat": 4,
 "nbformat_minor": 2
}
